{
 "cells": [
  {
   "cell_type": "code",
   "execution_count": 1,
   "id": "32eba951",
   "metadata": {},
   "outputs": [
    {
     "name": "stdout",
     "output_type": "stream",
     "text": [
      "Requirement already satisfied: absl-py==1.0.0 in c:\\users\\jiz14\\appdata\\local\\programs\\python\\python39\\lib\\site-packages (from -r requirements.txt (line 1)) (1.0.0)\n",
      "Requirement already satisfied: anyio==2.2.0 in c:\\users\\jiz14\\appdata\\local\\programs\\python\\python39\\lib\\site-packages (from -r requirements.txt (line 2)) (2.2.0)\n",
      "Requirement already satisfied: asks==2.4.12 in c:\\users\\jiz14\\appdata\\local\\programs\\python\\python39\\lib\\site-packages (from -r requirements.txt (line 3)) (2.4.12)\n",
      "Requirement already satisfied: astunparse==1.6.3 in c:\\users\\jiz14\\appdata\\local\\programs\\python\\python39\\lib\\site-packages (from -r requirements.txt (line 4)) (1.6.3)\n",
      "Requirement already satisfied: async-generator==1.10 in c:\\users\\jiz14\\appdata\\local\\programs\\python\\python39\\lib\\site-packages (from -r requirements.txt (line 5)) (1.10)\n",
      "Requirement already satisfied: attrs==21.2.0 in c:\\users\\jiz14\\appdata\\local\\programs\\python\\python39\\lib\\site-packages (from -r requirements.txt (line 6)) (21.2.0)\n",
      "Requirement already satisfied: backcall==0.2.0 in c:\\users\\jiz14\\appdata\\local\\programs\\python\\python39\\lib\\site-packages (from -r requirements.txt (line 7)) (0.2.0)\n",
      "Requirement already satisfied: cachetools==4.2.4 in c:\\users\\jiz14\\appdata\\local\\programs\\python\\python39\\lib\\site-packages (from -r requirements.txt (line 8)) (4.2.4)\n",
      "Requirement already satisfied: certifi==2021.10.8 in c:\\users\\jiz14\\appdata\\local\\programs\\python\\python39\\lib\\site-packages (from -r requirements.txt (line 9)) (2021.10.8)\n",
      "Requirement already satisfied: cffi==1.15.0 in c:\\users\\jiz14\\appdata\\local\\programs\\python\\python39\\lib\\site-packages (from -r requirements.txt (line 10)) (1.15.0)\n",
      "Requirement already satisfied: charset-normalizer==2.0.7 in c:\\users\\jiz14\\appdata\\local\\programs\\python\\python39\\lib\\site-packages (from -r requirements.txt (line 11)) (2.0.7)\n",
      "Requirement already satisfied: click==8.0.3 in c:\\users\\jiz14\\appdata\\local\\programs\\python\\python39\\lib\\site-packages (from -r requirements.txt (line 12)) (8.0.3)\n",
      "Requirement already satisfied: colorama==0.4.4 in c:\\users\\jiz14\\appdata\\local\\programs\\python\\python39\\lib\\site-packages (from -r requirements.txt (line 13)) (0.4.4)\n",
      "Requirement already satisfied: configparser==5.1.0 in c:\\users\\jiz14\\appdata\\local\\programs\\python\\python39\\lib\\site-packages (from -r requirements.txt (line 14)) (5.1.0)\n",
      "Requirement already satisfied: cycler==0.11.0 in c:\\users\\jiz14\\appdata\\local\\programs\\python\\python39\\lib\\site-packages (from -r requirements.txt (line 15)) (0.11.0)\n",
      "Requirement already satisfied: datatable==1.0.0 in c:\\users\\jiz14\\appdata\\local\\programs\\python\\python39\\lib\\site-packages (from -r requirements.txt (line 16)) (1.0.0)\n",
      "Requirement already satisfied: decorator==5.1.0 in c:\\users\\jiz14\\appdata\\local\\programs\\python\\python39\\lib\\site-packages (from -r requirements.txt (line 17)) (5.1.0)\n",
      "Requirement already satisfied: docker-pycreds==0.4.0 in c:\\users\\jiz14\\appdata\\local\\programs\\python\\python39\\lib\\site-packages (from -r requirements.txt (line 18)) (0.4.0)\n",
      "Requirement already satisfied: flatbuffers==2.0 in c:\\users\\jiz14\\appdata\\local\\programs\\python\\python39\\lib\\site-packages (from -r requirements.txt (line 19)) (2.0)\n",
      "Requirement already satisfied: fonttools==4.28.1 in c:\\users\\jiz14\\appdata\\local\\programs\\python\\python39\\lib\\site-packages (from -r requirements.txt (line 20)) (4.28.1)\n",
      "Requirement already satisfied: gast==0.4.0 in c:\\users\\jiz14\\appdata\\local\\programs\\python\\python39\\lib\\site-packages (from -r requirements.txt (line 21)) (0.4.0)\n",
      "Requirement already satisfied: gitdb==4.0.9 in c:\\users\\jiz14\\appdata\\local\\programs\\python\\python39\\lib\\site-packages (from -r requirements.txt (line 22)) (4.0.9)\n",
      "Requirement already satisfied: GitPython==3.1.24 in c:\\users\\jiz14\\appdata\\local\\programs\\python\\python39\\lib\\site-packages (from -r requirements.txt (line 23)) (3.1.24)\n",
      "Requirement already satisfied: google-auth==2.3.3 in c:\\users\\jiz14\\appdata\\local\\programs\\python\\python39\\lib\\site-packages (from -r requirements.txt (line 24)) (2.3.3)\n",
      "Requirement already satisfied: google-auth-oauthlib==0.4.6 in c:\\users\\jiz14\\appdata\\local\\programs\\python\\python39\\lib\\site-packages (from -r requirements.txt (line 25)) (0.4.6)\n",
      "Requirement already satisfied: google-pasta==0.2.0 in c:\\users\\jiz14\\appdata\\local\\programs\\python\\python39\\lib\\site-packages (from -r requirements.txt (line 26)) (0.2.0)\n",
      "Requirement already satisfied: grpcio==1.42.0 in c:\\users\\jiz14\\appdata\\local\\programs\\python\\python39\\lib\\site-packages (from -r requirements.txt (line 27)) (1.42.0)\n",
      "Requirement already satisfied: h11==0.12.0 in c:\\users\\jiz14\\appdata\\local\\programs\\python\\python39\\lib\\site-packages (from -r requirements.txt (line 28)) (0.12.0)\n",
      "Requirement already satisfied: h5py==3.6.0 in c:\\users\\jiz14\\appdata\\local\\programs\\python\\python39\\lib\\site-packages (from -r requirements.txt (line 29)) (3.6.0)\n",
      "Requirement already satisfied: idna==3.3 in c:\\users\\jiz14\\appdata\\local\\programs\\python\\python39\\lib\\site-packages (from -r requirements.txt (line 30)) (3.3)\n",
      "Requirement already satisfied: importlib-metadata==4.8.2 in c:\\users\\jiz14\\appdata\\local\\programs\\python\\python39\\lib\\site-packages (from -r requirements.txt (line 31)) (4.8.2)\n",
      "Requirement already satisfied: ipython==7.29.0 in c:\\users\\jiz14\\appdata\\local\\programs\\python\\python39\\lib\\site-packages (from -r requirements.txt (line 32)) (7.29.0)\n",
      "Requirement already satisfied: jedi==0.18.0 in c:\\users\\jiz14\\appdata\\local\\programs\\python\\python39\\lib\\site-packages (from -r requirements.txt (line 33)) (0.18.0)\n",
      "Requirement already satisfied: kaggle==1.5.12 in c:\\users\\jiz14\\appdata\\local\\programs\\python\\python39\\lib\\site-packages (from -r requirements.txt (line 34)) (1.5.12)\n",
      "Requirement already satisfied: keras==2.7.0 in c:\\users\\jiz14\\appdata\\local\\programs\\python\\python39\\lib\\site-packages (from -r requirements.txt (line 35)) (2.7.0)\n",
      "Requirement already satisfied: keras-nightly==2.8.0.dev2021111808 in c:\\users\\jiz14\\appdata\\local\\programs\\python\\python39\\lib\\site-packages (from -r requirements.txt (line 36)) (2.8.0.dev2021111808)\n",
      "Requirement already satisfied: Keras-Preprocessing==1.1.2 in c:\\users\\jiz14\\appdata\\local\\programs\\python\\python39\\lib\\site-packages (from -r requirements.txt (line 37)) (1.1.2)\n",
      "Requirement already satisfied: kiwisolver==1.3.2 in c:\\users\\jiz14\\appdata\\local\\programs\\python\\python39\\lib\\site-packages (from -r requirements.txt (line 38)) (1.3.2)\n",
      "Requirement already satisfied: libclang==12.0.0 in c:\\users\\jiz14\\appdata\\local\\programs\\python\\python39\\lib\\site-packages (from -r requirements.txt (line 39)) (12.0.0)\n",
      "Requirement already satisfied: Markdown==3.3.6 in c:\\users\\jiz14\\appdata\\local\\programs\\python\\python39\\lib\\site-packages (from -r requirements.txt (line 40)) (3.3.6)\n",
      "Requirement already satisfied: matplotlib==3.5.0 in c:\\users\\jiz14\\appdata\\local\\programs\\python\\python39\\lib\\site-packages (from -r requirements.txt (line 41)) (3.5.0)\n",
      "Requirement already satisfied: matplotlib-inline==0.1.3 in c:\\users\\jiz14\\appdata\\local\\programs\\python\\python39\\lib\\site-packages (from -r requirements.txt (line 42)) (0.1.3)\n",
      "Requirement already satisfied: numpy==1.21.4 in c:\\users\\jiz14\\appdata\\local\\programs\\python\\python39\\lib\\site-packages (from -r requirements.txt (line 43)) (1.21.4)\n",
      "Requirement already satisfied: oauthlib==3.1.1 in c:\\users\\jiz14\\appdata\\local\\programs\\python\\python39\\lib\\site-packages (from -r requirements.txt (line 44)) (3.1.1)\n",
      "Requirement already satisfied: opencv-python==4.5.4.58 in c:\\users\\jiz14\\appdata\\local\\programs\\python\\python39\\lib\\site-packages (from -r requirements.txt (line 45)) (4.5.4.58)\n",
      "Requirement already satisfied: opt-einsum==3.3.0 in c:\\users\\jiz14\\appdata\\local\\programs\\python\\python39\\lib\\site-packages (from -r requirements.txt (line 46)) (3.3.0)\n",
      "Requirement already satisfied: outcome==1.1.0 in c:\\users\\jiz14\\appdata\\local\\programs\\python\\python39\\lib\\site-packages (from -r requirements.txt (line 47)) (1.1.0)\n",
      "Requirement already satisfied: packaging==21.3 in c:\\users\\jiz14\\appdata\\local\\programs\\python\\python39\\lib\\site-packages (from -r requirements.txt (line 48)) (21.3)\n",
      "Requirement already satisfied: pandas==1.3.4 in c:\\users\\jiz14\\appdata\\local\\programs\\python\\python39\\lib\\site-packages (from -r requirements.txt (line 49)) (1.3.4)\n",
      "Requirement already satisfied: parso==0.8.2 in c:\\users\\jiz14\\appdata\\local\\programs\\python\\python39\\lib\\site-packages (from -r requirements.txt (line 50)) (0.8.2)\n",
      "Requirement already satisfied: pathtools==0.1.2 in c:\\users\\jiz14\\appdata\\local\\programs\\python\\python39\\lib\\site-packages (from -r requirements.txt (line 51)) (0.1.2)\n",
      "Requirement already satisfied: pickleshare==0.7.5 in c:\\users\\jiz14\\appdata\\local\\programs\\python\\python39\\lib\\site-packages (from -r requirements.txt (line 52)) (0.7.5)\n",
      "Requirement already satisfied: Pillow==8.4.0 in c:\\users\\jiz14\\appdata\\local\\programs\\python\\python39\\lib\\site-packages (from -r requirements.txt (line 53)) (8.4.0)\n",
      "Requirement already satisfied: promise==2.3 in c:\\users\\jiz14\\appdata\\local\\programs\\python\\python39\\lib\\site-packages (from -r requirements.txt (line 54)) (2.3)\n",
      "Requirement already satisfied: prompt-toolkit==3.0.22 in c:\\users\\jiz14\\appdata\\local\\programs\\python\\python39\\lib\\site-packages (from -r requirements.txt (line 55)) (3.0.22)\n",
      "Requirement already satisfied: protobuf==3.19.1 in c:\\users\\jiz14\\appdata\\local\\programs\\python\\python39\\lib\\site-packages (from -r requirements.txt (line 56)) (3.19.1)\n",
      "Requirement already satisfied: psutil==5.8.0 in c:\\users\\jiz14\\appdata\\local\\programs\\python\\python39\\lib\\site-packages (from -r requirements.txt (line 57)) (5.8.0)\n",
      "Requirement already satisfied: pyasn1==0.4.8 in c:\\users\\jiz14\\appdata\\local\\programs\\python\\python39\\lib\\site-packages (from -r requirements.txt (line 58)) (0.4.8)\n",
      "Requirement already satisfied: pyasn1-modules==0.2.8 in c:\\users\\jiz14\\appdata\\local\\programs\\python\\python39\\lib\\site-packages (from -r requirements.txt (line 59)) (0.2.8)\n",
      "Requirement already satisfied: pycparser==2.21 in c:\\users\\jiz14\\appdata\\local\\programs\\python\\python39\\lib\\site-packages (from -r requirements.txt (line 60)) (2.21)\n",
      "Requirement already satisfied: Pygments==2.10.0 in c:\\users\\jiz14\\appdata\\local\\programs\\python\\python39\\lib\\site-packages (from -r requirements.txt (line 61)) (2.10.0)\n",
      "Requirement already satisfied: pyparsing==3.0.6 in c:\\users\\jiz14\\appdata\\local\\programs\\python\\python39\\lib\\site-packages (from -r requirements.txt (line 62)) (3.0.6)\n",
      "Requirement already satisfied: python-dateutil==2.8.2 in c:\\users\\jiz14\\appdata\\local\\programs\\python\\python39\\lib\\site-packages (from -r requirements.txt (line 63)) (2.8.2)\n",
      "Requirement already satisfied: python-slugify==5.0.2 in c:\\users\\jiz14\\appdata\\local\\programs\\python\\python39\\lib\\site-packages (from -r requirements.txt (line 64)) (5.0.2)\n",
      "Requirement already satisfied: pytz==2021.3 in c:\\users\\jiz14\\appdata\\local\\programs\\python\\python39\\lib\\site-packages (from -r requirements.txt (line 65)) (2021.3)\n",
      "Requirement already satisfied: PyYAML==6.0 in c:\\users\\jiz14\\appdata\\local\\programs\\python\\python39\\lib\\site-packages (from -r requirements.txt (line 66)) (6.0)\n",
      "Requirement already satisfied: requests==2.26.0 in c:\\users\\jiz14\\appdata\\local\\programs\\python\\python39\\lib\\site-packages (from -r requirements.txt (line 67)) (2.26.0)\n",
      "Requirement already satisfied: requests-oauthlib==1.3.0 in c:\\users\\jiz14\\appdata\\local\\programs\\python\\python39\\lib\\site-packages (from -r requirements.txt (line 68)) (1.3.0)\n",
      "Requirement already satisfied: rsa==4.7.2 in c:\\users\\jiz14\\appdata\\local\\programs\\python\\python39\\lib\\site-packages (from -r requirements.txt (line 69)) (4.7.2)\n",
      "Requirement already satisfied: sentry-sdk==1.4.3 in c:\\users\\jiz14\\appdata\\local\\programs\\python\\python39\\lib\\site-packages (from -r requirements.txt (line 70)) (1.4.3)\n",
      "Requirement already satisfied: setuptools-scm==6.3.2 in c:\\users\\jiz14\\appdata\\local\\programs\\python\\python39\\lib\\site-packages (from -r requirements.txt (line 71)) (6.3.2)\n",
      "Requirement already satisfied: shortuuid==1.0.8 in c:\\users\\jiz14\\appdata\\local\\programs\\python\\python39\\lib\\site-packages (from -r requirements.txt (line 72)) (1.0.8)\n",
      "Requirement already satisfied: six==1.16.0 in c:\\users\\jiz14\\appdata\\local\\programs\\python\\python39\\lib\\site-packages (from -r requirements.txt (line 73)) (1.16.0)\n",
      "Requirement already satisfied: smmap==5.0.0 in c:\\users\\jiz14\\appdata\\local\\programs\\python\\python39\\lib\\site-packages (from -r requirements.txt (line 74)) (5.0.0)\n",
      "Requirement already satisfied: sniffio==1.2.0 in c:\\users\\jiz14\\appdata\\local\\programs\\python\\python39\\lib\\site-packages (from -r requirements.txt (line 75)) (1.2.0)\n",
      "Requirement already satisfied: sortedcontainers==2.4.0 in c:\\users\\jiz14\\appdata\\local\\programs\\python\\python39\\lib\\site-packages (from -r requirements.txt (line 76)) (2.4.0)\n",
      "Requirement already satisfied: subprocess32==3.5.4 in c:\\users\\jiz14\\appdata\\local\\programs\\python\\python39\\lib\\site-packages (from -r requirements.txt (line 77)) (3.5.4)\n",
      "Requirement already satisfied: tb-nightly==2.8.0a20211117 in c:\\users\\jiz14\\appdata\\local\\programs\\python\\python39\\lib\\site-packages (from -r requirements.txt (line 78)) (2.8.0a20211117)\n",
      "Requirement already satisfied: tensorboard==2.7.0 in c:\\users\\jiz14\\appdata\\local\\programs\\python\\python39\\lib\\site-packages (from -r requirements.txt (line 79)) (2.7.0)\n",
      "Requirement already satisfied: tensorboard-data-server==0.6.1 in c:\\users\\jiz14\\appdata\\local\\programs\\python\\python39\\lib\\site-packages (from -r requirements.txt (line 80)) (0.6.1)\n",
      "Requirement already satisfied: tensorboard-plugin-wit==1.8.0 in c:\\users\\jiz14\\appdata\\local\\programs\\python\\python39\\lib\\site-packages (from -r requirements.txt (line 81)) (1.8.0)\n",
      "Requirement already satisfied: tensorflow==2.7.0 in c:\\users\\jiz14\\appdata\\local\\programs\\python\\python39\\lib\\site-packages (from -r requirements.txt (line 82)) (2.7.0)\n",
      "Requirement already satisfied: tensorflow-estimator==2.7.0 in c:\\users\\jiz14\\appdata\\local\\programs\\python\\python39\\lib\\site-packages (from -r requirements.txt (line 83)) (2.7.0)\n",
      "Requirement already satisfied: tensorflow-io-gcs-filesystem==0.22.0 in c:\\users\\jiz14\\appdata\\local\\programs\\python\\python39\\lib\\site-packages (from -r requirements.txt (line 84)) (0.22.0)\n",
      "Requirement already satisfied: termcolor==1.1.0 in c:\\users\\jiz14\\appdata\\local\\programs\\python\\python39\\lib\\site-packages (from -r requirements.txt (line 85)) (1.1.0)\n",
      "Requirement already satisfied: text-unidecode==1.3 in c:\\users\\jiz14\\appdata\\local\\programs\\python\\python39\\lib\\site-packages (from -r requirements.txt (line 86)) (1.3)\n",
      "Requirement already satisfied: tf-estimator-nightly==2.8.0.dev2021111809 in c:\\users\\jiz14\\appdata\\local\\programs\\python\\python39\\lib\\site-packages (from -r requirements.txt (line 87)) (2.8.0.dev2021111809)\n",
      "Requirement already satisfied: tomli==1.2.2 in c:\\users\\jiz14\\appdata\\local\\programs\\python\\python39\\lib\\site-packages (from -r requirements.txt (line 88)) (1.2.2)\n",
      "Requirement already satisfied: tqdm==4.62.3 in c:\\users\\jiz14\\appdata\\local\\programs\\python\\python39\\lib\\site-packages (from -r requirements.txt (line 89)) (4.62.3)\n",
      "Requirement already satisfied: traitlets==5.1.1 in c:\\users\\jiz14\\appdata\\local\\programs\\python\\python39\\lib\\site-packages (from -r requirements.txt (line 90)) (5.1.1)\n",
      "Requirement already satisfied: trio==0.19.0 in c:\\users\\jiz14\\appdata\\local\\programs\\python\\python39\\lib\\site-packages (from -r requirements.txt (line 91)) (0.19.0)\n",
      "Requirement already satisfied: typing-extensions==3.10.0.2 in c:\\users\\jiz14\\appdata\\local\\programs\\python\\python39\\lib\\site-packages (from -r requirements.txt (line 92)) (3.10.0.2)\n",
      "Requirement already satisfied: urllib3==1.26.7 in c:\\users\\jiz14\\appdata\\local\\programs\\python\\python39\\lib\\site-packages (from -r requirements.txt (line 93)) (1.26.7)\n",
      "Requirement already satisfied: wandb==0.12.6 in c:\\users\\jiz14\\appdata\\local\\programs\\python\\python39\\lib\\site-packages (from -r requirements.txt (line 94)) (0.12.6)\n",
      "Requirement already satisfied: wcwidth==0.2.5 in c:\\users\\jiz14\\appdata\\local\\programs\\python\\python39\\lib\\site-packages (from -r requirements.txt (line 95)) (0.2.5)\n",
      "Requirement already satisfied: Werkzeug==2.0.2 in c:\\users\\jiz14\\appdata\\local\\programs\\python\\python39\\lib\\site-packages (from -r requirements.txt (line 96)) (2.0.2)\n",
      "Requirement already satisfied: wrapt==1.13.3 in c:\\users\\jiz14\\appdata\\local\\programs\\python\\python39\\lib\\site-packages (from -r requirements.txt (line 97)) (1.13.3)\n",
      "Requirement already satisfied: yaspin==2.1.0 in c:\\users\\jiz14\\appdata\\local\\programs\\python\\python39\\lib\\site-packages (from -r requirements.txt (line 98)) (2.1.0)\n",
      "Requirement already satisfied: zipp==3.6.0 in c:\\users\\jiz14\\appdata\\local\\programs\\python\\python39\\lib\\site-packages (from -r requirements.txt (line 99)) (3.6.0)\n",
      "Requirement already satisfied: wheel<1.0,>=0.23.0 in c:\\users\\jiz14\\appdata\\local\\programs\\python\\python39\\lib\\site-packages (from astunparse==1.6.3->-r requirements.txt (line 4)) (0.37.0)\n",
      "Requirement already satisfied: setuptools>=40.3.0 in c:\\users\\jiz14\\appdata\\local\\programs\\python\\python39\\lib\\site-packages (from google-auth==2.3.3->-r requirements.txt (line 24)) (57.4.0)\n",
      "Note: you may need to restart the kernel to use updated packages.\n"
     ]
    },
    {
     "name": "stderr",
     "output_type": "stream",
     "text": [
      "WARNING: You are using pip version 21.2.3; however, version 21.3.1 is available.\n",
      "You should consider upgrading via the 'C:\\Users\\jiz14\\AppData\\Local\\Programs\\Python\\Python39\\python.exe -m pip install --upgrade pip' command.\n"
     ]
    }
   ],
   "source": [
    "pip install -r requirements.txt"
   ]
  },
  {
   "cell_type": "code",
   "execution_count": 3,
   "id": "8ba7c4cd",
   "metadata": {},
   "outputs": [
    {
     "name": "stdout",
     "output_type": "stream",
     "text": [
      "Note: you may need to restart the kernel to use updated packages.\n"
     ]
    },
    {
     "name": "stderr",
     "output_type": "stream",
     "text": [
      "WARNING: Skipping tf-nightly-gpu as it is not installed.\n"
     ]
    }
   ],
   "source": [
    "pip uninstall tf-nightly-gpu"
   ]
  },
  {
   "cell_type": "code",
   "execution_count": 1,
   "id": "c1bd89e9",
   "metadata": {},
   "outputs": [
    {
     "ename": "ModuleNotFoundError",
     "evalue": "No module named 'tensorflow.python.distribute.merge_call_interim'",
     "output_type": "error",
     "traceback": [
      "\u001b[1;31m---------------------------------------------------------------------------\u001b[0m",
      "\u001b[1;31mModuleNotFoundError\u001b[0m                       Traceback (most recent call last)",
      "\u001b[1;32m~\\AppData\\Local\\Temp/ipykernel_17848/518465077.py\u001b[0m in \u001b[0;36m<module>\u001b[1;34m\u001b[0m\n\u001b[1;32m----> 1\u001b[1;33m \u001b[1;32mimport\u001b[0m \u001b[0mtensorflow\u001b[0m \u001b[1;32mas\u001b[0m \u001b[0mtf\u001b[0m\u001b[1;33m\u001b[0m\u001b[1;33m\u001b[0m\u001b[0m\n\u001b[0m\u001b[0;32m      2\u001b[0m \u001b[0mprint\u001b[0m\u001b[1;33m(\u001b[0m\u001b[1;34m\"Num GPUs Available: \"\u001b[0m\u001b[1;33m,\u001b[0m \u001b[0mlen\u001b[0m\u001b[1;33m(\u001b[0m\u001b[0mtf\u001b[0m\u001b[1;33m.\u001b[0m\u001b[0mconfig\u001b[0m\u001b[1;33m.\u001b[0m\u001b[0mlist_physical_devices\u001b[0m\u001b[1;33m(\u001b[0m\u001b[1;34m'GPU'\u001b[0m\u001b[1;33m)\u001b[0m\u001b[1;33m)\u001b[0m\u001b[1;33m)\u001b[0m\u001b[1;33m\u001b[0m\u001b[1;33m\u001b[0m\u001b[0m\n",
      "\u001b[1;32m~\\AppData\\Local\\Programs\\Python\\Python39\\lib\\site-packages\\tensorflow\\__init__.py\u001b[0m in \u001b[0;36m<module>\u001b[1;34m\u001b[0m\n\u001b[0;32m     43\u001b[0m \u001b[0m_tf2\u001b[0m\u001b[1;33m.\u001b[0m\u001b[0menable\u001b[0m\u001b[1;33m(\u001b[0m\u001b[1;33m)\u001b[0m\u001b[1;33m\u001b[0m\u001b[1;33m\u001b[0m\u001b[0m\n\u001b[0;32m     44\u001b[0m \u001b[1;33m\u001b[0m\u001b[0m\n\u001b[1;32m---> 45\u001b[1;33m \u001b[1;32mfrom\u001b[0m \u001b[1;33m.\u001b[0m\u001b[0m_api\u001b[0m\u001b[1;33m.\u001b[0m\u001b[0mv2\u001b[0m \u001b[1;32mimport\u001b[0m \u001b[0m__internal__\u001b[0m\u001b[1;33m\u001b[0m\u001b[1;33m\u001b[0m\u001b[0m\n\u001b[0m\u001b[0;32m     46\u001b[0m \u001b[1;32mfrom\u001b[0m \u001b[1;33m.\u001b[0m\u001b[0m_api\u001b[0m\u001b[1;33m.\u001b[0m\u001b[0mv2\u001b[0m \u001b[1;32mimport\u001b[0m \u001b[0m__operators__\u001b[0m\u001b[1;33m\u001b[0m\u001b[1;33m\u001b[0m\u001b[0m\n\u001b[0;32m     47\u001b[0m \u001b[1;32mfrom\u001b[0m \u001b[1;33m.\u001b[0m\u001b[0m_api\u001b[0m\u001b[1;33m.\u001b[0m\u001b[0mv2\u001b[0m \u001b[1;32mimport\u001b[0m \u001b[0maudio\u001b[0m\u001b[1;33m\u001b[0m\u001b[1;33m\u001b[0m\u001b[0m\n",
      "\u001b[1;32m~\\AppData\\Local\\Programs\\Python\\Python39\\lib\\site-packages\\tensorflow\\_api\\v2\\__internal__\\__init__.py\u001b[0m in \u001b[0;36m<module>\u001b[1;34m\u001b[0m\n\u001b[0;32m      9\u001b[0m \u001b[1;32mfrom\u001b[0m \u001b[1;33m.\u001b[0m \u001b[1;32mimport\u001b[0m \u001b[0mdecorator\u001b[0m\u001b[1;33m\u001b[0m\u001b[1;33m\u001b[0m\u001b[0m\n\u001b[0;32m     10\u001b[0m \u001b[1;32mfrom\u001b[0m \u001b[1;33m.\u001b[0m \u001b[1;32mimport\u001b[0m \u001b[0mdispatch\u001b[0m\u001b[1;33m\u001b[0m\u001b[1;33m\u001b[0m\u001b[0m\n\u001b[1;32m---> 11\u001b[1;33m \u001b[1;32mfrom\u001b[0m \u001b[1;33m.\u001b[0m \u001b[1;32mimport\u001b[0m \u001b[0mdistribute\u001b[0m\u001b[1;33m\u001b[0m\u001b[1;33m\u001b[0m\u001b[0m\n\u001b[0m\u001b[0;32m     12\u001b[0m \u001b[1;32mfrom\u001b[0m \u001b[1;33m.\u001b[0m \u001b[1;32mimport\u001b[0m \u001b[0meager_context\u001b[0m\u001b[1;33m\u001b[0m\u001b[1;33m\u001b[0m\u001b[0m\n\u001b[0;32m     13\u001b[0m \u001b[1;32mfrom\u001b[0m \u001b[1;33m.\u001b[0m \u001b[1;32mimport\u001b[0m \u001b[0mfeature_column\u001b[0m\u001b[1;33m\u001b[0m\u001b[1;33m\u001b[0m\u001b[0m\n",
      "\u001b[1;32m~\\AppData\\Local\\Programs\\Python\\Python39\\lib\\site-packages\\tensorflow\\_api\\v2\\__internal__\\distribute\\__init__.py\u001b[0m in \u001b[0;36m<module>\u001b[1;34m\u001b[0m\n\u001b[0;32m      7\u001b[0m \u001b[1;33m\u001b[0m\u001b[0m\n\u001b[0;32m      8\u001b[0m \u001b[1;32mfrom\u001b[0m \u001b[1;33m.\u001b[0m \u001b[1;32mimport\u001b[0m \u001b[0mcombinations\u001b[0m\u001b[1;33m\u001b[0m\u001b[1;33m\u001b[0m\u001b[0m\n\u001b[1;32m----> 9\u001b[1;33m \u001b[1;32mfrom\u001b[0m \u001b[1;33m.\u001b[0m \u001b[1;32mimport\u001b[0m \u001b[0minterim\u001b[0m\u001b[1;33m\u001b[0m\u001b[1;33m\u001b[0m\u001b[0m\n\u001b[0m\u001b[0;32m     10\u001b[0m \u001b[1;32mfrom\u001b[0m \u001b[1;33m.\u001b[0m \u001b[1;32mimport\u001b[0m \u001b[0mmulti_process_runner\u001b[0m\u001b[1;33m\u001b[0m\u001b[1;33m\u001b[0m\u001b[0m\n\u001b[0;32m     11\u001b[0m \u001b[1;32mfrom\u001b[0m \u001b[0mtensorflow\u001b[0m\u001b[1;33m.\u001b[0m\u001b[0mpython\u001b[0m\u001b[1;33m.\u001b[0m\u001b[0mdistribute\u001b[0m\u001b[1;33m.\u001b[0m\u001b[0mdistribution_strategy_context\u001b[0m \u001b[1;32mimport\u001b[0m \u001b[0mvariable_sync_on_read_context\u001b[0m\u001b[1;33m\u001b[0m\u001b[1;33m\u001b[0m\u001b[0m\n",
      "\u001b[1;32m~\\AppData\\Local\\Programs\\Python\\Python39\\lib\\site-packages\\tensorflow\\_api\\v2\\__internal__\\distribute\\interim\\__init__.py\u001b[0m in \u001b[0;36m<module>\u001b[1;34m\u001b[0m\n\u001b[0;32m      6\u001b[0m \u001b[1;32mimport\u001b[0m \u001b[0msys\u001b[0m \u001b[1;32mas\u001b[0m \u001b[0m_sys\u001b[0m\u001b[1;33m\u001b[0m\u001b[1;33m\u001b[0m\u001b[0m\n\u001b[0;32m      7\u001b[0m \u001b[1;33m\u001b[0m\u001b[0m\n\u001b[1;32m----> 8\u001b[1;33m \u001b[1;32mfrom\u001b[0m \u001b[0mtensorflow\u001b[0m\u001b[1;33m.\u001b[0m\u001b[0mpython\u001b[0m\u001b[1;33m.\u001b[0m\u001b[0mdistribute\u001b[0m\u001b[1;33m.\u001b[0m\u001b[0mmerge_call_interim\u001b[0m \u001b[1;32mimport\u001b[0m \u001b[0mmaybe_merge_call\u001b[0m\u001b[1;33m\u001b[0m\u001b[1;33m\u001b[0m\u001b[0m\n\u001b[0m",
      "\u001b[1;31mModuleNotFoundError\u001b[0m: No module named 'tensorflow.python.distribute.merge_call_interim'"
     ]
    }
   ],
   "source": [
    "import tensorflow as tf\n",
    "print(\"Num GPUs Available: \", len(tf.config.list_physical_devices('GPU')))"
   ]
  }
 ],
 "metadata": {
  "kernelspec": {
   "display_name": "554venv",
   "language": "python",
   "name": "554venv"
  },
  "language_info": {
   "codemirror_mode": {
    "name": "ipython",
    "version": 3
   },
   "file_extension": ".py",
   "mimetype": "text/x-python",
   "name": "python",
   "nbconvert_exporter": "python",
   "pygments_lexer": "ipython3",
   "version": "3.9.7"
  }
 },
 "nbformat": 4,
 "nbformat_minor": 5
}
